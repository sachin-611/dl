{
 "cells": [
  {
   "cell_type": "code",
   "execution_count": 1,
   "id": "262aeea2",
   "metadata": {},
   "outputs": [],
   "source": [
    "import numpy as np\n",
    "import pandas as pd\n",
    "import matplotlib.pyplot as plt\n",
    "import tensorflow as tf\n",
    "from tensorflow import keras"
   ]
  },
  {
   "cell_type": "code",
   "execution_count": 2,
   "id": "1b558c4f",
   "metadata": {},
   "outputs": [],
   "source": [
    "fashion_mnist = keras.datasets.fashion_mnist\n",
    "(X_train, y_train), (X_test,y_test) = fashion_mnist.load_data()"
   ]
  },
  {
   "cell_type": "code",
   "execution_count": 3,
   "id": "34227173",
   "metadata": {},
   "outputs": [
    {
     "data": {
      "text/plain": [
       "<matplotlib.image.AxesImage at 0x1d2f1bc2d30>"
      ]
     },
     "execution_count": 3,
     "metadata": {},
     "output_type": "execute_result"
    },
    {
     "data": {
      "image/png": "[encoded data removed]",
      "text/plain": [
       "<Figure size 432x288 with 1 Axes>"
      ]
     },
     "metadata": {
      "needs_background": "light"
     },
     "output_type": "display_data"
    }
   ],
   "source": [
    "plt.imshow(X_train[1])"
   ]
  },
  {
   "cell_type": "code",
   "execution_count": 4,
   "id": "120302fc",
   "metadata": {},
   "outputs": [],
   "source": [
    "X_train = X_train/255\n",
    "X_test = X_test/255"
   ]
  },
  {
   "cell_type": "code",
   "execution_count": 5,
   "id": "f923c039",
   "metadata": {},
   "outputs": [],
   "source": [
    "X_train= X_train.reshape((60000, 28, 28, 1))\n",
    "X_test = X_test.reshape((10000, 28,28,1))"
   ]
  },
  {
   "cell_type": "code",
   "execution_count": 6,
   "id": "ab3f4003",
   "metadata": {},
   "outputs": [],
   "source": [
    "np.random.seed(42)\n",
    "tf.random.set_seed(42)"
   ]
  },
  {
   "cell_type": "code",
   "execution_count": 7,
   "id": "52709008",
   "metadata": {},
   "outputs": [],
   "source": [
    "from tensorflow.keras.models import Sequential\n",
    "from tensorflow.keras.layers import Dense\n",
    "from tensorflow.keras.layers import Dropout"
   ]
  },
  {
   "cell_type": "code",
   "execution_count": 8,
   "id": "07a8a7ce",
   "metadata": {},
   "outputs": [],
   "source": [
    "model = Sequential()\n",
    "\n",
    "model.add(keras.layers.Conv2D(filters = 32, kernel_size = (3,3), strides = 1, padding = 'same' , activation=keras.layers.LeakyReLU(alpha=0.001), input_shape = (28,28,1)))\n",
    "model.add(keras.layers.MaxPooling2D((2,2)))\n",
    "\n",
    "model.add(Dropout(0.2))\n",
    "\n",
    "model.add(keras.layers.Conv2D(64, (3, 3),strides = 1, padding = 'same', activation=keras.layers.LeakyReLU(alpha=0.001)))\n",
    "model.add(keras.layers.MaxPooling2D((2,2)))\n",
    "\n",
    "model.add(Dropout(0.2))\n",
    "\n",
    "model.add(keras.layers.Conv2D(128, (3, 3),strides = 1, padding = 'same', activation=keras.layers.LeakyReLU(alpha=0.001)))\n",
    "model.add(keras.layers.MaxPooling2D((2,2)))\n",
    "model.add(Dropout(0.2))\n",
    "\n",
    "\n",
    "model.add(keras.layers.Flatten())\n",
    "\n",
    "model.add(Dense(128,activation=keras.layers.LeakyReLU(alpha=0.01)))\n",
    "model.add(Dropout(0.2))\n",
    "\n",
    "model.add(Dense(128,activation=keras.layers.LeakyReLU(alpha=0.01)))\n",
    "model.add(Dropout(0.2))\n",
    "\n",
    "model.add(Dense(10, activation= 'softmax'))"
   ]
  },
  {
   "cell_type": "code",
   "execution_count": 9,
   "id": "47c18059",
   "metadata": {},
   "outputs": [
    {
     "name": "stdout",
     "output_type": "stream",
     "text": [
      "Model: \"sequential\"\n",
      "_________________________________________________________________\n",
      " Layer (type)                Output Shape              Param #   \n",
      "=================================================================\n",
      " conv2d (Conv2D)             (None, 28, 28, 32)        320       \n",
      "                                                                 \n",
      " max_pooling2d (MaxPooling2D  (None, 14, 14, 32)       0         \n",
      " )                                                               \n",
      "                                                                 \n",
      " dropout (Dropout)           (None, 14, 14, 32)        0         \n",
      "                                                                 \n",
      " conv2d_1 (Conv2D)           (None, 14, 14, 64)        18496     \n",
      "                                                                 \n",
      " max_pooling2d_1 (MaxPooling  (None, 7, 7, 64)         0         \n",
      " 2D)                                                             \n",
      "                                                                 \n",
      " dropout_1 (Dropout)         (None, 7, 7, 64)          0         \n",
      "                                                                 \n",
      " conv2d_2 (Conv2D)           (None, 7, 7, 128)         73856     \n",
      "                                                                 \n",
      " max_pooling2d_2 (MaxPooling  (None, 3, 3, 128)        0         \n",
      " 2D)                                                             \n",
      "                                                                 \n",
      " dropout_2 (Dropout)         (None, 3, 3, 128)         0         \n",
      "                                                                 \n",
      " flatten (Flatten)           (None, 1152)              0         \n",
      "                                                                 \n",
      " dense (Dense)               (None, 128)               147584    \n",
      "                                                                 \n",
      " dropout_3 (Dropout)         (None, 128)               0         \n",
      "                                                                 \n",
      " dense_1 (Dense)             (None, 128)               16512     \n",
      "                                                                 \n",
      " dropout_4 (Dropout)         (None, 128)               0         \n",
      "                                                                 \n",
      " dense_2 (Dense)             (None, 10)                1290      \n",
      "                                                                 \n",
      "=================================================================\n",
      "Total params: 258,058\n",
      "Trainable params: 258,058\n",
      "Non-trainable params: 0\n",
      "_________________________________________________________________\n"
     ]
    }
   ],
   "source": [
    "model.summary()"
   ]
  },
  {
   "cell_type": "code",
   "execution_count": 10,
   "id": "c3cea728",
   "metadata": {},
   "outputs": [],
   "source": [
    "model.compile(loss= 'sparse_categorical_crossentropy',\n",
    "              optimizer = 'adam',\n",
    "              metrics = ['accuracy'])"
   ]
  },
  {
   "cell_type": "code",
   "execution_count": 11,
   "id": "4aa213af",
   "metadata": {},
   "outputs": [],
   "source": [
    "early_stopping = tf.keras.callbacks.EarlyStopping(\n",
    "    monitor=\"val_accuracy\",\n",
    "    min_delta=0.0001,\n",
    "    patience=20,\n",
    "    verbose=1,\n",
    "    mode=\"auto\",\n",
    "    baseline=None,\n",
    "    restore_best_weights=True\n",
    "   )"
   ]
  },
  {
   "cell_type": "code",
   "execution_count": 20,
   "id": "27ab9e2d",
   "metadata": {},
   "outputs": [
    {
     "name": "stdout",
     "output_type": "stream",
     "text": [
      "Epoch 1/10\n",
      "1500/1500 [==============================] - 109s 73ms/step - loss: 0.1500 - accuracy: 0.9466 - val_loss: 0.2327 - val_accuracy: 0.9259\n",
      "Epoch 2/10\n",
      "1500/1500 [==============================] - 108s 72ms/step - loss: 0.1425 - accuracy: 0.9466 - val_loss: 0.2269 - val_accuracy: 0.9269\n",
      "Epoch 3/10\n",
      "1500/1500 [==============================] - 109s 73ms/step - loss: 0.1424 - accuracy: 0.9480 - val_loss: 0.2307 - val_accuracy: 0.9257\n",
      "Epoch 4/10\n",
      "1500/1500 [==============================] - 109s 73ms/step - loss: 0.1376 - accuracy: 0.9500 - val_loss: 0.2312 - val_accuracy: 0.9252\n",
      "Epoch 5/10\n",
      "1500/1500 [==============================] - 109s 72ms/step - loss: 0.1415 - accuracy: 0.9488 - val_loss: 0.2283 - val_accuracy: 0.9255\n",
      "Epoch 6/10\n",
      "1500/1500 [==============================] - 109s 73ms/step - loss: 0.1436 - accuracy: 0.9471 - val_loss: 0.2245 - val_accuracy: 0.9287\n",
      "Epoch 7/10\n",
      "1500/1500 [==============================] - 108s 72ms/step - loss: 0.1433 - accuracy: 0.9485 - val_loss: 0.2229 - val_accuracy: 0.9268\n",
      "Epoch 8/10\n",
      "1500/1500 [==============================] - 108s 72ms/step - loss: 0.1409 - accuracy: 0.9499 - val_loss: 0.2449 - val_accuracy: 0.9218\n",
      "Epoch 9/10\n",
      "1500/1500 [==============================] - 109s 73ms/step - loss: 0.1399 - accuracy: 0.9491 - val_loss: 0.2244 - val_accuracy: 0.9261\n",
      "Epoch 10/10\n",
      "1500/1500 [==============================] - 108s 72ms/step - loss: 0.1381 - accuracy: 0.9503 - val_loss: 0.2407 - val_accuracy: 0.9247\n"
     ]
    }
   ],
   "source": [
    "model_history = model.fit(X_train, y_train, epochs = 10, batch_size = 32, validation_split = 0.2, callbacks = early_stopping)"
   ]
  },
  {
   "cell_type": "code",
   "execution_count": 21,
   "id": "1b02d65f",
   "metadata": {},
   "outputs": [
    {
     "name": "stdout",
     "output_type": "stream",
     "text": [
      "313/313 [==============================] - 8s 24ms/step - loss: 0.2699 - accuracy: 0.9209\n"
     ]
    },
    {
     "data": {
      "text/plain": [
       "[0.269936740398407, 0.9208999872207642]"
      ]
     },
     "execution_count": 21,
     "metadata": {},
     "output_type": "execute_result"
    }
   ],
   "source": [
    "ev = model.evaluate(X_test,y_test)\n",
    "ev"
   ]
  },
  {
   "cell_type": "code",
   "execution_count": 22,
   "id": "65293c44",
   "metadata": {},
   "outputs": [
    {
     "name": "stdout",
     "output_type": "stream",
     "text": [
      "Test Loss  0.269936740398407\n",
      "Test accuracy 0.9208999872207642\n"
     ]
    }
   ],
   "source": [
    "print ('Test Loss ', ev[0])\n",
    "print ('Test accuracy', ev[1])"
   ]
  },
  {
   "cell_type": "code",
   "execution_count": 23,
   "id": "20a32bbd",
   "metadata": {},
   "outputs": [
    {
     "name": "stdout",
     "output_type": "stream",
     "text": [
      "The accuracy is  92.08999872207642\n"
     ]
    }
   ],
   "source": [
    "print('The accuracy is ', ev[1]*100)"
   ]
  },
  {
   "cell_type": "code",
   "execution_count": null,
   "id": "92d18bdc",
   "metadata": {},
   "outputs": [],
   "source": []
  }
 ],
 "metadata": {
  "kernelspec": {
   "display_name": "Python 3 (ipykernel)",
   "language": "python",
   "name": "python3"
  },
  "language_info": {
   "codemirror_mode": {
    "name": "ipython",
    "version": 3
   },
   "file_extension": ".py",
   "mimetype": "text/x-python",
   "name": "python",
   "nbconvert_exporter": "python",
   "pygments_lexer": "ipython3",
   "version": "3.9.0"
  }
 },
 "nbformat": 4,
 "nbformat_minor": 5
}
