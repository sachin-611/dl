{
 "cells": [
  {
   "cell_type": "markdown",
   "metadata": {},
   "source": [
    "# Submitted by Navneet Das 3433 Comp A\n",
    "\n",
    "***'\n",
    "Assignment 1 Deep Learning\n",
    "Implement Boston housing price prediction problem regression methods using Deep Neural network. \n",
    "Use the Boston House price prediction dataset. \n",
    "Use Polynomial Regression, Lasso Regression, Partial least regression, Ordinal Regression, and linear & logistic regression. Compare the results for performance analysis\n",
    "***"
   ]
  },
  {
   "cell_type": "code",
   "execution_count": 2,
   "metadata": {
    "_cell_guid": "b1076dfc-b9ad-4769-8c92-a6c4dae69d19",
    "_uuid": "8f2839f25d086af736a60e9eeb907d3b93b6e0e5",
    "id": "HLNjY1NnIgL0",
    "tags": []
   },
   "outputs": [],
   "source": [
    "import numpy as np\n",
    "import pandas as pd"
   ]
  },
  {
   "cell_type": "code",
   "execution_count": 3,
   "metadata": {
    "id": "AbCdwpvVI9G9"
   },
   "outputs": [],
   "source": [
    "data_url = \"DeepLearningData/housing.xls\"\n",
    "raw_df = pd.read_csv(data_url, sep=\"\\s+\", skiprows=22, header=None)\n",
    "data = np.hstack([raw_df.values[::2, :], raw_df.values[1::2, :2]])\n",
    "target = raw_df.values[1::2, 2]"
   ]
  },
  {
   "cell_type": "code",
   "execution_count": 4,
   "metadata": {
    "colab": {
     "base_uri": "https://localhost:8080/",
     "height": 424
    },
    "id": "STx1e67RJoUY",
    "outputId": "d132b7aa-a192-4a7a-b9a7-53548df1d662"
   },
   "outputs": [
    {
     "data": {
      "text/html": [
       "<div>\n",
       "<style scoped>\n",
       "    .dataframe tbody tr th:only-of-type {\n",
       "        vertical-align: middle;\n",
       "    }\n",
       "\n",
       "    .dataframe tbody tr th {\n",
       "        vertical-align: top;\n",
       "    }\n",
       "\n",
       "    .dataframe thead th {\n",
       "        text-align: right;\n",
       "    }\n",
       "</style>\n",
       "<table border=\"1\" class=\"dataframe\">\n",
       "  <thead>\n",
       "    <tr style=\"text-align: right;\">\n",
       "      <th></th>\n",
       "      <th>0</th>\n",
       "      <th>1</th>\n",
       "      <th>2</th>\n",
       "      <th>3</th>\n",
       "      <th>4</th>\n",
       "      <th>5</th>\n",
       "      <th>6</th>\n",
       "      <th>7</th>\n",
       "      <th>8</th>\n",
       "      <th>9</th>\n",
       "      <th>10</th>\n",
       "      <th>11</th>\n",
       "      <th>12</th>\n",
       "      <th>13</th>\n",
       "    </tr>\n",
       "  </thead>\n",
       "  <tbody>\n",
       "    <tr>\n",
       "      <th>0</th>\n",
       "      <td>1.23247</td>\n",
       "      <td>0.0</td>\n",
       "      <td>8.14</td>\n",
       "      <td>0</td>\n",
       "      <td>0.538</td>\n",
       "      <td>6.142</td>\n",
       "      <td>91.7</td>\n",
       "      <td>3.9769</td>\n",
       "      <td>4</td>\n",
       "      <td>307.0</td>\n",
       "      <td>21.0</td>\n",
       "      <td>396.90</td>\n",
       "      <td>18.72</td>\n",
       "      <td>15.2</td>\n",
       "    </tr>\n",
       "    <tr>\n",
       "      <th>1</th>\n",
       "      <td>0.98843</td>\n",
       "      <td>0.0</td>\n",
       "      <td>8.14</td>\n",
       "      <td>0</td>\n",
       "      <td>0.538</td>\n",
       "      <td>5.813</td>\n",
       "      <td>100.0</td>\n",
       "      <td>4.0952</td>\n",
       "      <td>4</td>\n",
       "      <td>307.0</td>\n",
       "      <td>21.0</td>\n",
       "      <td>394.54</td>\n",
       "      <td>19.88</td>\n",
       "      <td>14.5</td>\n",
       "    </tr>\n",
       "    <tr>\n",
       "      <th>2</th>\n",
       "      <td>0.75026</td>\n",
       "      <td>0.0</td>\n",
       "      <td>8.14</td>\n",
       "      <td>0</td>\n",
       "      <td>0.538</td>\n",
       "      <td>5.924</td>\n",
       "      <td>94.1</td>\n",
       "      <td>4.3996</td>\n",
       "      <td>4</td>\n",
       "      <td>307.0</td>\n",
       "      <td>21.0</td>\n",
       "      <td>394.33</td>\n",
       "      <td>16.30</td>\n",
       "      <td>15.6</td>\n",
       "    </tr>\n",
       "    <tr>\n",
       "      <th>3</th>\n",
       "      <td>0.84054</td>\n",
       "      <td>0.0</td>\n",
       "      <td>8.14</td>\n",
       "      <td>0</td>\n",
       "      <td>0.538</td>\n",
       "      <td>5.599</td>\n",
       "      <td>85.7</td>\n",
       "      <td>4.4546</td>\n",
       "      <td>4</td>\n",
       "      <td>307.0</td>\n",
       "      <td>21.0</td>\n",
       "      <td>303.42</td>\n",
       "      <td>16.51</td>\n",
       "      <td>13.9</td>\n",
       "    </tr>\n",
       "    <tr>\n",
       "      <th>4</th>\n",
       "      <td>0.67191</td>\n",
       "      <td>0.0</td>\n",
       "      <td>8.14</td>\n",
       "      <td>0</td>\n",
       "      <td>0.538</td>\n",
       "      <td>5.813</td>\n",
       "      <td>90.3</td>\n",
       "      <td>4.6820</td>\n",
       "      <td>4</td>\n",
       "      <td>307.0</td>\n",
       "      <td>21.0</td>\n",
       "      <td>376.88</td>\n",
       "      <td>14.81</td>\n",
       "      <td>16.6</td>\n",
       "    </tr>\n",
       "    <tr>\n",
       "      <th>...</th>\n",
       "      <td>...</td>\n",
       "      <td>...</td>\n",
       "      <td>...</td>\n",
       "      <td>...</td>\n",
       "      <td>...</td>\n",
       "      <td>...</td>\n",
       "      <td>...</td>\n",
       "      <td>...</td>\n",
       "      <td>...</td>\n",
       "      <td>...</td>\n",
       "      <td>...</td>\n",
       "      <td>...</td>\n",
       "      <td>...</td>\n",
       "      <td>...</td>\n",
       "    </tr>\n",
       "    <tr>\n",
       "      <th>479</th>\n",
       "      <td>0.06263</td>\n",
       "      <td>0.0</td>\n",
       "      <td>11.93</td>\n",
       "      <td>0</td>\n",
       "      <td>0.573</td>\n",
       "      <td>6.593</td>\n",
       "      <td>69.1</td>\n",
       "      <td>2.4786</td>\n",
       "      <td>1</td>\n",
       "      <td>273.0</td>\n",
       "      <td>21.0</td>\n",
       "      <td>391.99</td>\n",
       "      <td>9.67</td>\n",
       "      <td>22.4</td>\n",
       "    </tr>\n",
       "    <tr>\n",
       "      <th>480</th>\n",
       "      <td>0.04527</td>\n",
       "      <td>0.0</td>\n",
       "      <td>11.93</td>\n",
       "      <td>0</td>\n",
       "      <td>0.573</td>\n",
       "      <td>6.120</td>\n",
       "      <td>76.7</td>\n",
       "      <td>2.2875</td>\n",
       "      <td>1</td>\n",
       "      <td>273.0</td>\n",
       "      <td>21.0</td>\n",
       "      <td>396.90</td>\n",
       "      <td>9.08</td>\n",
       "      <td>20.6</td>\n",
       "    </tr>\n",
       "    <tr>\n",
       "      <th>481</th>\n",
       "      <td>0.06076</td>\n",
       "      <td>0.0</td>\n",
       "      <td>11.93</td>\n",
       "      <td>0</td>\n",
       "      <td>0.573</td>\n",
       "      <td>6.976</td>\n",
       "      <td>91.0</td>\n",
       "      <td>2.1675</td>\n",
       "      <td>1</td>\n",
       "      <td>273.0</td>\n",
       "      <td>21.0</td>\n",
       "      <td>396.90</td>\n",
       "      <td>5.64</td>\n",
       "      <td>23.9</td>\n",
       "    </tr>\n",
       "    <tr>\n",
       "      <th>482</th>\n",
       "      <td>0.10959</td>\n",
       "      <td>0.0</td>\n",
       "      <td>11.93</td>\n",
       "      <td>0</td>\n",
       "      <td>0.573</td>\n",
       "      <td>6.794</td>\n",
       "      <td>89.3</td>\n",
       "      <td>2.3889</td>\n",
       "      <td>1</td>\n",
       "      <td>273.0</td>\n",
       "      <td>21.0</td>\n",
       "      <td>393.45</td>\n",
       "      <td>6.48</td>\n",
       "      <td>22.0</td>\n",
       "    </tr>\n",
       "    <tr>\n",
       "      <th>483</th>\n",
       "      <td>0.04741</td>\n",
       "      <td>0.0</td>\n",
       "      <td>11.93</td>\n",
       "      <td>0</td>\n",
       "      <td>0.573</td>\n",
       "      <td>6.030</td>\n",
       "      <td>80.8</td>\n",
       "      <td>2.5050</td>\n",
       "      <td>1</td>\n",
       "      <td>273.0</td>\n",
       "      <td>21.0</td>\n",
       "      <td>396.90</td>\n",
       "      <td>7.88</td>\n",
       "      <td>11.9</td>\n",
       "    </tr>\n",
       "  </tbody>\n",
       "</table>\n",
       "<p>484 rows × 14 columns</p>\n",
       "</div>"
      ],
      "text/plain": [
       "          0    1      2   3      4      5      6       7   8      9     10  \\\n",
       "0    1.23247  0.0   8.14   0  0.538  6.142   91.7  3.9769   4  307.0  21.0   \n",
       "1    0.98843  0.0   8.14   0  0.538  5.813  100.0  4.0952   4  307.0  21.0   \n",
       "2    0.75026  0.0   8.14   0  0.538  5.924   94.1  4.3996   4  307.0  21.0   \n",
       "3    0.84054  0.0   8.14   0  0.538  5.599   85.7  4.4546   4  307.0  21.0   \n",
       "4    0.67191  0.0   8.14   0  0.538  5.813   90.3  4.6820   4  307.0  21.0   \n",
       "..       ...  ...    ...  ..    ...    ...    ...     ...  ..    ...   ...   \n",
       "479  0.06263  0.0  11.93   0  0.573  6.593   69.1  2.4786   1  273.0  21.0   \n",
       "480  0.04527  0.0  11.93   0  0.573  6.120   76.7  2.2875   1  273.0  21.0   \n",
       "481  0.06076  0.0  11.93   0  0.573  6.976   91.0  2.1675   1  273.0  21.0   \n",
       "482  0.10959  0.0  11.93   0  0.573  6.794   89.3  2.3889   1  273.0  21.0   \n",
       "483  0.04741  0.0  11.93   0  0.573  6.030   80.8  2.5050   1  273.0  21.0   \n",
       "\n",
       "         11     12    13  \n",
       "0    396.90  18.72  15.2  \n",
       "1    394.54  19.88  14.5  \n",
       "2    394.33  16.30  15.6  \n",
       "3    303.42  16.51  13.9  \n",
       "4    376.88  14.81  16.6  \n",
       "..      ...    ...   ...  \n",
       "479  391.99   9.67  22.4  \n",
       "480  396.90   9.08  20.6  \n",
       "481  396.90   5.64  23.9  \n",
       "482  393.45   6.48  22.0  \n",
       "483  396.90   7.88  11.9  \n",
       "\n",
       "[484 rows x 14 columns]"
      ]
     },
     "execution_count": 4,
     "metadata": {},
     "output_type": "execute_result"
    }
   ],
   "source": [
    "raw_df"
   ]
  },
  {
   "cell_type": "code",
   "execution_count": 5,
   "metadata": {
    "id": "F3Lt8CVvIgL1",
    "tags": []
   },
   "outputs": [],
   "source": [
    "# from sklearn.datasets import load_boston\n",
    "# boston = load_boston()"
   ]
  },
  {
   "cell_type": "code",
   "execution_count": 6,
   "metadata": {
    "id": "DluRI44nIgL1",
    "tags": []
   },
   "outputs": [],
   "source": [
    "data = pd.DataFrame(raw_df)"
   ]
  },
  {
   "cell_type": "code",
   "execution_count": 7,
   "metadata": {
    "colab": {
     "base_uri": "https://localhost:8080/",
     "height": 206
    },
    "id": "oTaXhKt7IgL2",
    "outputId": "b85709d2-7f2d-4d18-8a07-1db162c71bcd",
    "tags": []
   },
   "outputs": [
    {
     "data": {
      "text/html": [
       "<div>\n",
       "<style scoped>\n",
       "    .dataframe tbody tr th:only-of-type {\n",
       "        vertical-align: middle;\n",
       "    }\n",
       "\n",
       "    .dataframe tbody tr th {\n",
       "        vertical-align: top;\n",
       "    }\n",
       "\n",
       "    .dataframe thead th {\n",
       "        text-align: right;\n",
       "    }\n",
       "</style>\n",
       "<table border=\"1\" class=\"dataframe\">\n",
       "  <thead>\n",
       "    <tr style=\"text-align: right;\">\n",
       "      <th></th>\n",
       "      <th>0</th>\n",
       "      <th>1</th>\n",
       "      <th>2</th>\n",
       "      <th>3</th>\n",
       "      <th>4</th>\n",
       "      <th>5</th>\n",
       "      <th>6</th>\n",
       "      <th>7</th>\n",
       "      <th>8</th>\n",
       "      <th>9</th>\n",
       "      <th>10</th>\n",
       "      <th>11</th>\n",
       "      <th>12</th>\n",
       "      <th>13</th>\n",
       "    </tr>\n",
       "  </thead>\n",
       "  <tbody>\n",
       "    <tr>\n",
       "      <th>0</th>\n",
       "      <td>1.23247</td>\n",
       "      <td>0.0</td>\n",
       "      <td>8.14</td>\n",
       "      <td>0</td>\n",
       "      <td>0.538</td>\n",
       "      <td>6.142</td>\n",
       "      <td>91.7</td>\n",
       "      <td>3.9769</td>\n",
       "      <td>4</td>\n",
       "      <td>307.0</td>\n",
       "      <td>21.0</td>\n",
       "      <td>396.90</td>\n",
       "      <td>18.72</td>\n",
       "      <td>15.2</td>\n",
       "    </tr>\n",
       "    <tr>\n",
       "      <th>1</th>\n",
       "      <td>0.98843</td>\n",
       "      <td>0.0</td>\n",
       "      <td>8.14</td>\n",
       "      <td>0</td>\n",
       "      <td>0.538</td>\n",
       "      <td>5.813</td>\n",
       "      <td>100.0</td>\n",
       "      <td>4.0952</td>\n",
       "      <td>4</td>\n",
       "      <td>307.0</td>\n",
       "      <td>21.0</td>\n",
       "      <td>394.54</td>\n",
       "      <td>19.88</td>\n",
       "      <td>14.5</td>\n",
       "    </tr>\n",
       "    <tr>\n",
       "      <th>2</th>\n",
       "      <td>0.75026</td>\n",
       "      <td>0.0</td>\n",
       "      <td>8.14</td>\n",
       "      <td>0</td>\n",
       "      <td>0.538</td>\n",
       "      <td>5.924</td>\n",
       "      <td>94.1</td>\n",
       "      <td>4.3996</td>\n",
       "      <td>4</td>\n",
       "      <td>307.0</td>\n",
       "      <td>21.0</td>\n",
       "      <td>394.33</td>\n",
       "      <td>16.30</td>\n",
       "      <td>15.6</td>\n",
       "    </tr>\n",
       "    <tr>\n",
       "      <th>3</th>\n",
       "      <td>0.84054</td>\n",
       "      <td>0.0</td>\n",
       "      <td>8.14</td>\n",
       "      <td>0</td>\n",
       "      <td>0.538</td>\n",
       "      <td>5.599</td>\n",
       "      <td>85.7</td>\n",
       "      <td>4.4546</td>\n",
       "      <td>4</td>\n",
       "      <td>307.0</td>\n",
       "      <td>21.0</td>\n",
       "      <td>303.42</td>\n",
       "      <td>16.51</td>\n",
       "      <td>13.9</td>\n",
       "    </tr>\n",
       "    <tr>\n",
       "      <th>4</th>\n",
       "      <td>0.67191</td>\n",
       "      <td>0.0</td>\n",
       "      <td>8.14</td>\n",
       "      <td>0</td>\n",
       "      <td>0.538</td>\n",
       "      <td>5.813</td>\n",
       "      <td>90.3</td>\n",
       "      <td>4.6820</td>\n",
       "      <td>4</td>\n",
       "      <td>307.0</td>\n",
       "      <td>21.0</td>\n",
       "      <td>376.88</td>\n",
       "      <td>14.81</td>\n",
       "      <td>16.6</td>\n",
       "    </tr>\n",
       "  </tbody>\n",
       "</table>\n",
       "</div>"
      ],
      "text/plain": [
       "        0    1     2   3      4      5      6       7   8      9     10  \\\n",
       "0  1.23247  0.0  8.14   0  0.538  6.142   91.7  3.9769   4  307.0  21.0   \n",
       "1  0.98843  0.0  8.14   0  0.538  5.813  100.0  4.0952   4  307.0  21.0   \n",
       "2  0.75026  0.0  8.14   0  0.538  5.924   94.1  4.3996   4  307.0  21.0   \n",
       "3  0.84054  0.0  8.14   0  0.538  5.599   85.7  4.4546   4  307.0  21.0   \n",
       "4  0.67191  0.0  8.14   0  0.538  5.813   90.3  4.6820   4  307.0  21.0   \n",
       "\n",
       "       11     12    13  \n",
       "0  396.90  18.72  15.2  \n",
       "1  394.54  19.88  14.5  \n",
       "2  394.33  16.30  15.6  \n",
       "3  303.42  16.51  13.9  \n",
       "4  376.88  14.81  16.6  "
      ]
     },
     "execution_count": 7,
     "metadata": {},
     "output_type": "execute_result"
    }
   ],
   "source": [
    "data.head()"
   ]
  },
  {
   "cell_type": "code",
   "execution_count": 8,
   "metadata": {
    "id": "CkvJcdnpIgL3",
    "tags": []
   },
   "outputs": [],
   "source": [
    "data.columns = ['CRIM', 'ZN', 'INDUS', 'CHAS', 'NOX', 'RM', 'AGE', 'DIS', 'RAD', 'TAX', 'PTRATIO', 'B', 'LSTAT',\"PRICE\"]"
   ]
  },
  {
   "cell_type": "code",
   "execution_count": null,
   "metadata": {
    "id": "yUFnxQaiIgL4",
    "tags": []
   },
   "outputs": [],
   "source": []
  },
  {
   "cell_type": "code",
   "execution_count": 9,
   "metadata": {
    "colab": {
     "base_uri": "https://localhost:8080/",
     "height": 206
    },
    "id": "Ak4w9yWnIgL5",
    "outputId": "37c6419f-b0ac-49b5-b107-648b420617ca",
    "tags": []
   },
   "outputs": [
    {
     "data": {
      "text/html": [
       "<div>\n",
       "<style scoped>\n",
       "    .dataframe tbody tr th:only-of-type {\n",
       "        vertical-align: middle;\n",
       "    }\n",
       "\n",
       "    .dataframe tbody tr th {\n",
       "        vertical-align: top;\n",
       "    }\n",
       "\n",
       "    .dataframe thead th {\n",
       "        text-align: right;\n",
       "    }\n",
       "</style>\n",
       "<table border=\"1\" class=\"dataframe\">\n",
       "  <thead>\n",
       "    <tr style=\"text-align: right;\">\n",
       "      <th></th>\n",
       "      <th>CRIM</th>\n",
       "      <th>ZN</th>\n",
       "      <th>INDUS</th>\n",
       "      <th>CHAS</th>\n",
       "      <th>NOX</th>\n",
       "      <th>RM</th>\n",
       "      <th>AGE</th>\n",
       "      <th>DIS</th>\n",
       "      <th>RAD</th>\n",
       "      <th>TAX</th>\n",
       "      <th>PTRATIO</th>\n",
       "      <th>B</th>\n",
       "      <th>LSTAT</th>\n",
       "      <th>PRICE</th>\n",
       "    </tr>\n",
       "  </thead>\n",
       "  <tbody>\n",
       "    <tr>\n",
       "      <th>0</th>\n",
       "      <td>1.23247</td>\n",
       "      <td>0.0</td>\n",
       "      <td>8.14</td>\n",
       "      <td>0</td>\n",
       "      <td>0.538</td>\n",
       "      <td>6.142</td>\n",
       "      <td>91.7</td>\n",
       "      <td>3.9769</td>\n",
       "      <td>4</td>\n",
       "      <td>307.0</td>\n",
       "      <td>21.0</td>\n",
       "      <td>396.90</td>\n",
       "      <td>18.72</td>\n",
       "      <td>15.2</td>\n",
       "    </tr>\n",
       "    <tr>\n",
       "      <th>1</th>\n",
       "      <td>0.98843</td>\n",
       "      <td>0.0</td>\n",
       "      <td>8.14</td>\n",
       "      <td>0</td>\n",
       "      <td>0.538</td>\n",
       "      <td>5.813</td>\n",
       "      <td>100.0</td>\n",
       "      <td>4.0952</td>\n",
       "      <td>4</td>\n",
       "      <td>307.0</td>\n",
       "      <td>21.0</td>\n",
       "      <td>394.54</td>\n",
       "      <td>19.88</td>\n",
       "      <td>14.5</td>\n",
       "    </tr>\n",
       "    <tr>\n",
       "      <th>2</th>\n",
       "      <td>0.75026</td>\n",
       "      <td>0.0</td>\n",
       "      <td>8.14</td>\n",
       "      <td>0</td>\n",
       "      <td>0.538</td>\n",
       "      <td>5.924</td>\n",
       "      <td>94.1</td>\n",
       "      <td>4.3996</td>\n",
       "      <td>4</td>\n",
       "      <td>307.0</td>\n",
       "      <td>21.0</td>\n",
       "      <td>394.33</td>\n",
       "      <td>16.30</td>\n",
       "      <td>15.6</td>\n",
       "    </tr>\n",
       "    <tr>\n",
       "      <th>3</th>\n",
       "      <td>0.84054</td>\n",
       "      <td>0.0</td>\n",
       "      <td>8.14</td>\n",
       "      <td>0</td>\n",
       "      <td>0.538</td>\n",
       "      <td>5.599</td>\n",
       "      <td>85.7</td>\n",
       "      <td>4.4546</td>\n",
       "      <td>4</td>\n",
       "      <td>307.0</td>\n",
       "      <td>21.0</td>\n",
       "      <td>303.42</td>\n",
       "      <td>16.51</td>\n",
       "      <td>13.9</td>\n",
       "    </tr>\n",
       "    <tr>\n",
       "      <th>4</th>\n",
       "      <td>0.67191</td>\n",
       "      <td>0.0</td>\n",
       "      <td>8.14</td>\n",
       "      <td>0</td>\n",
       "      <td>0.538</td>\n",
       "      <td>5.813</td>\n",
       "      <td>90.3</td>\n",
       "      <td>4.6820</td>\n",
       "      <td>4</td>\n",
       "      <td>307.0</td>\n",
       "      <td>21.0</td>\n",
       "      <td>376.88</td>\n",
       "      <td>14.81</td>\n",
       "      <td>16.6</td>\n",
       "    </tr>\n",
       "  </tbody>\n",
       "</table>\n",
       "</div>"
      ],
      "text/plain": [
       "      CRIM   ZN  INDUS  CHAS    NOX     RM    AGE     DIS  RAD    TAX  \\\n",
       "0  1.23247  0.0   8.14     0  0.538  6.142   91.7  3.9769    4  307.0   \n",
       "1  0.98843  0.0   8.14     0  0.538  5.813  100.0  4.0952    4  307.0   \n",
       "2  0.75026  0.0   8.14     0  0.538  5.924   94.1  4.3996    4  307.0   \n",
       "3  0.84054  0.0   8.14     0  0.538  5.599   85.7  4.4546    4  307.0   \n",
       "4  0.67191  0.0   8.14     0  0.538  5.813   90.3  4.6820    4  307.0   \n",
       "\n",
       "   PTRATIO       B  LSTAT  PRICE  \n",
       "0     21.0  396.90  18.72   15.2  \n",
       "1     21.0  394.54  19.88   14.5  \n",
       "2     21.0  394.33  16.30   15.6  \n",
       "3     21.0  303.42  16.51   13.9  \n",
       "4     21.0  376.88  14.81   16.6  "
      ]
     },
     "execution_count": 9,
     "metadata": {},
     "output_type": "execute_result"
    }
   ],
   "source": [
    "data.head()"
   ]
  },
  {
   "cell_type": "code",
   "execution_count": 10,
   "metadata": {},
   "outputs": [],
   "source": [
    "data.to_csv(\"DeepLearningData/boston.csv\",index=False)"
   ]
  },
  {
   "cell_type": "code",
   "execution_count": 11,
   "metadata": {
    "colab": {
     "base_uri": "https://localhost:8080/"
    },
    "id": "1Cts6hxMIgL6",
    "outputId": "f44d59a9-03a0-4592-a4f3-45677a55ce27",
    "tags": []
   },
   "outputs": [
    {
     "name": "stdout",
     "output_type": "stream",
     "text": [
      "(484, 14)\n"
     ]
    }
   ],
   "source": [
    "print(data.shape)"
   ]
  },
  {
   "cell_type": "code",
   "execution_count": 12,
   "metadata": {
    "colab": {
     "base_uri": "https://localhost:8080/"
    },
    "id": "EYcspYIIIgL6",
    "outputId": "788d8fe7-95bf-44fe-fe6b-4493a9e56760",
    "tags": []
   },
   "outputs": [
    {
     "data": {
      "text/plain": [
       "CRIM       0\n",
       "ZN         0\n",
       "INDUS      0\n",
       "CHAS       0\n",
       "NOX        0\n",
       "RM         0\n",
       "AGE        0\n",
       "DIS        0\n",
       "RAD        0\n",
       "TAX        0\n",
       "PTRATIO    0\n",
       "B          0\n",
       "LSTAT      0\n",
       "PRICE      0\n",
       "dtype: int64"
      ]
     },
     "execution_count": 12,
     "metadata": {},
     "output_type": "execute_result"
    }
   ],
   "source": [
    "data.isnull().sum()"
   ]
  },
  {
   "cell_type": "markdown",
   "metadata": {
    "id": "kmONLoPLIgL8"
   },
   "source": [
    "No null values in the dataset, no missing value treatement needed"
   ]
  },
  {
   "cell_type": "code",
   "execution_count": 13,
   "metadata": {
    "colab": {
     "base_uri": "https://localhost:8080/",
     "height": 300
    },
    "id": "anrCBBwYIgL8",
    "outputId": "2454c4f9-e05e-4f39-f19e-4e951f864486",
    "tags": []
   },
   "outputs": [
    {
     "data": {
      "text/html": [
       "<div>\n",
       "<style scoped>\n",
       "    .dataframe tbody tr th:only-of-type {\n",
       "        vertical-align: middle;\n",
       "    }\n",
       "\n",
       "    .dataframe tbody tr th {\n",
       "        vertical-align: top;\n",
       "    }\n",
       "\n",
       "    .dataframe thead th {\n",
       "        text-align: right;\n",
       "    }\n",
       "</style>\n",
       "<table border=\"1\" class=\"dataframe\">\n",
       "  <thead>\n",
       "    <tr style=\"text-align: right;\">\n",
       "      <th></th>\n",
       "      <th>CRIM</th>\n",
       "      <th>ZN</th>\n",
       "      <th>INDUS</th>\n",
       "      <th>CHAS</th>\n",
       "      <th>NOX</th>\n",
       "      <th>RM</th>\n",
       "      <th>AGE</th>\n",
       "      <th>DIS</th>\n",
       "      <th>RAD</th>\n",
       "      <th>TAX</th>\n",
       "      <th>PTRATIO</th>\n",
       "      <th>B</th>\n",
       "      <th>LSTAT</th>\n",
       "      <th>PRICE</th>\n",
       "    </tr>\n",
       "  </thead>\n",
       "  <tbody>\n",
       "    <tr>\n",
       "      <th>count</th>\n",
       "      <td>484.000000</td>\n",
       "      <td>484.000000</td>\n",
       "      <td>484.000000</td>\n",
       "      <td>484.000000</td>\n",
       "      <td>484.000000</td>\n",
       "      <td>484.000000</td>\n",
       "      <td>484.000000</td>\n",
       "      <td>484.000000</td>\n",
       "      <td>484.000000</td>\n",
       "      <td>484.000000</td>\n",
       "      <td>484.000000</td>\n",
       "      <td>484.000000</td>\n",
       "      <td>484.000000</td>\n",
       "      <td>484.000000</td>\n",
       "    </tr>\n",
       "    <tr>\n",
       "      <th>mean</th>\n",
       "      <td>3.759989</td>\n",
       "      <td>11.662190</td>\n",
       "      <td>11.330310</td>\n",
       "      <td>0.072314</td>\n",
       "      <td>0.556437</td>\n",
       "      <td>6.290605</td>\n",
       "      <td>68.518595</td>\n",
       "      <td>3.735627</td>\n",
       "      <td>9.807851</td>\n",
       "      <td>413.599174</td>\n",
       "      <td>18.463017</td>\n",
       "      <td>355.297190</td>\n",
       "      <td>12.679174</td>\n",
       "      <td>22.544008</td>\n",
       "    </tr>\n",
       "    <tr>\n",
       "      <th>std</th>\n",
       "      <td>8.766728</td>\n",
       "      <td>23.764895</td>\n",
       "      <td>6.936898</td>\n",
       "      <td>0.259275</td>\n",
       "      <td>0.118018</td>\n",
       "      <td>0.710895</td>\n",
       "      <td>28.447452</td>\n",
       "      <td>2.124833</td>\n",
       "      <td>8.813355</td>\n",
       "      <td>170.252171</td>\n",
       "      <td>2.145556</td>\n",
       "      <td>92.997197</td>\n",
       "      <td>7.167669</td>\n",
       "      <td>9.315331</td>\n",
       "    </tr>\n",
       "    <tr>\n",
       "      <th>min</th>\n",
       "      <td>0.009060</td>\n",
       "      <td>0.000000</td>\n",
       "      <td>0.460000</td>\n",
       "      <td>0.000000</td>\n",
       "      <td>0.385000</td>\n",
       "      <td>3.561000</td>\n",
       "      <td>2.900000</td>\n",
       "      <td>1.129600</td>\n",
       "      <td>1.000000</td>\n",
       "      <td>187.000000</td>\n",
       "      <td>12.600000</td>\n",
       "      <td>0.320000</td>\n",
       "      <td>1.730000</td>\n",
       "      <td>5.000000</td>\n",
       "    </tr>\n",
       "    <tr>\n",
       "      <th>25%</th>\n",
       "      <td>0.082155</td>\n",
       "      <td>0.000000</td>\n",
       "      <td>5.130000</td>\n",
       "      <td>0.000000</td>\n",
       "      <td>0.448000</td>\n",
       "      <td>5.884750</td>\n",
       "      <td>43.625000</td>\n",
       "      <td>2.064700</td>\n",
       "      <td>4.000000</td>\n",
       "      <td>279.000000</td>\n",
       "      <td>17.400000</td>\n",
       "      <td>374.650000</td>\n",
       "      <td>6.990000</td>\n",
       "      <td>16.775000</td>\n",
       "    </tr>\n",
       "    <tr>\n",
       "      <th>50%</th>\n",
       "      <td>0.262660</td>\n",
       "      <td>0.000000</td>\n",
       "      <td>9.900000</td>\n",
       "      <td>0.000000</td>\n",
       "      <td>0.538000</td>\n",
       "      <td>6.211500</td>\n",
       "      <td>77.700000</td>\n",
       "      <td>3.057250</td>\n",
       "      <td>5.000000</td>\n",
       "      <td>345.000000</td>\n",
       "      <td>19.100000</td>\n",
       "      <td>391.340000</td>\n",
       "      <td>11.360000</td>\n",
       "      <td>21.200000</td>\n",
       "    </tr>\n",
       "    <tr>\n",
       "      <th>75%</th>\n",
       "      <td>3.896877</td>\n",
       "      <td>20.000000</td>\n",
       "      <td>18.100000</td>\n",
       "      <td>0.000000</td>\n",
       "      <td>0.631000</td>\n",
       "      <td>6.630000</td>\n",
       "      <td>94.100000</td>\n",
       "      <td>5.116700</td>\n",
       "      <td>24.000000</td>\n",
       "      <td>666.000000</td>\n",
       "      <td>20.200000</td>\n",
       "      <td>396.215000</td>\n",
       "      <td>16.992500</td>\n",
       "      <td>25.000000</td>\n",
       "    </tr>\n",
       "    <tr>\n",
       "      <th>max</th>\n",
       "      <td>88.976200</td>\n",
       "      <td>100.000000</td>\n",
       "      <td>27.740000</td>\n",
       "      <td>1.000000</td>\n",
       "      <td>0.871000</td>\n",
       "      <td>8.780000</td>\n",
       "      <td>100.000000</td>\n",
       "      <td>12.126500</td>\n",
       "      <td>24.000000</td>\n",
       "      <td>711.000000</td>\n",
       "      <td>22.000000</td>\n",
       "      <td>396.900000</td>\n",
       "      <td>37.970000</td>\n",
       "      <td>50.000000</td>\n",
       "    </tr>\n",
       "  </tbody>\n",
       "</table>\n",
       "</div>"
      ],
      "text/plain": [
       "             CRIM          ZN       INDUS        CHAS         NOX          RM  \\\n",
       "count  484.000000  484.000000  484.000000  484.000000  484.000000  484.000000   \n",
       "mean     3.759989   11.662190   11.330310    0.072314    0.556437    6.290605   \n",
       "std      8.766728   23.764895    6.936898    0.259275    0.118018    0.710895   \n",
       "min      0.009060    0.000000    0.460000    0.000000    0.385000    3.561000   \n",
       "25%      0.082155    0.000000    5.130000    0.000000    0.448000    5.884750   \n",
       "50%      0.262660    0.000000    9.900000    0.000000    0.538000    6.211500   \n",
       "75%      3.896877   20.000000   18.100000    0.000000    0.631000    6.630000   \n",
       "max     88.976200  100.000000   27.740000    1.000000    0.871000    8.780000   \n",
       "\n",
       "              AGE         DIS         RAD         TAX     PTRATIO           B  \\\n",
       "count  484.000000  484.000000  484.000000  484.000000  484.000000  484.000000   \n",
       "mean    68.518595    3.735627    9.807851  413.599174   18.463017  355.297190   \n",
       "std     28.447452    2.124833    8.813355  170.252171    2.145556   92.997197   \n",
       "min      2.900000    1.129600    1.000000  187.000000   12.600000    0.320000   \n",
       "25%     43.625000    2.064700    4.000000  279.000000   17.400000  374.650000   \n",
       "50%     77.700000    3.057250    5.000000  345.000000   19.100000  391.340000   \n",
       "75%     94.100000    5.116700   24.000000  666.000000   20.200000  396.215000   \n",
       "max    100.000000   12.126500   24.000000  711.000000   22.000000  396.900000   \n",
       "\n",
       "            LSTAT       PRICE  \n",
       "count  484.000000  484.000000  \n",
       "mean    12.679174   22.544008  \n",
       "std      7.167669    9.315331  \n",
       "min      1.730000    5.000000  \n",
       "25%      6.990000   16.775000  \n",
       "50%     11.360000   21.200000  \n",
       "75%     16.992500   25.000000  \n",
       "max     37.970000   50.000000  "
      ]
     },
     "execution_count": 13,
     "metadata": {},
     "output_type": "execute_result"
    }
   ],
   "source": [
    "data.describe()"
   ]
  },
  {
   "cell_type": "markdown",
   "metadata": {
    "id": "D_6HLURYIgL9"
   },
   "source": [
    "This is sometimes very useful, for example if you look at the CRIM the max is 88.97 and 75% of the value is below 3.677083 and mean is 3.613524 so it means the max values is actually an outlier or there are outliers present in the column"
   ]
  },
  {
   "cell_type": "code",
   "execution_count": 14,
   "metadata": {
    "colab": {
     "base_uri": "https://localhost:8080/"
    },
    "id": "WcnS4XguIgL9",
    "outputId": "da86b187-cd60-4e62-95fa-1cf59eef6a34",
    "tags": []
   },
   "outputs": [
    {
     "name": "stdout",
     "output_type": "stream",
     "text": [
      "<class 'pandas.core.frame.DataFrame'>\n",
      "RangeIndex: 484 entries, 0 to 483\n",
      "Data columns (total 14 columns):\n",
      " #   Column   Non-Null Count  Dtype  \n",
      "---  ------   --------------  -----  \n",
      " 0   CRIM     484 non-null    float64\n",
      " 1   ZN       484 non-null    float64\n",
      " 2   INDUS    484 non-null    float64\n",
      " 3   CHAS     484 non-null    int64  \n",
      " 4   NOX      484 non-null    float64\n",
      " 5   RM       484 non-null    float64\n",
      " 6   AGE      484 non-null    float64\n",
      " 7   DIS      484 non-null    float64\n",
      " 8   RAD      484 non-null    int64  \n",
      " 9   TAX      484 non-null    float64\n",
      " 10  PTRATIO  484 non-null    float64\n",
      " 11  B        484 non-null    float64\n",
      " 12  LSTAT    484 non-null    float64\n",
      " 13  PRICE    484 non-null    float64\n",
      "dtypes: float64(12), int64(2)\n",
      "memory usage: 53.1 KB\n"
     ]
    }
   ],
   "source": [
    "data.info()"
   ]
  },
  {
   "cell_type": "markdown",
   "metadata": {
    "id": "PYuuF8myIgL9"
   },
   "source": [
    "<a id = 'visual'></a>\n",
    "# Visualisation"
   ]
  },
  {
   "cell_type": "code",
   "execution_count": 15,
   "metadata": {
    "colab": {
     "base_uri": "https://localhost:8080/",
     "height": 671
    },
    "id": "VVpLBNRWIgL-",
    "outputId": "ca6e719a-7262-4be4-d84f-304fa40741f6",
    "tags": []
   },
   "outputs": [
    {
     "name": "stderr",
     "output_type": "stream",
     "text": [
      "C:\\Users\\navne\\anaconda3\\lib\\site-packages\\seaborn\\distributions.py:2619: FutureWarning: `distplot` is a deprecated function and will be removed in a future version. Please adapt your code to use either `displot` (a figure-level function with similar flexibility) or `histplot` (an axes-level function for histograms).\n",
      "  warnings.warn(msg, FutureWarning)\n"
     ]
    },
    {
     "data": {
      "text/plain": [
       "<AxesSubplot:xlabel='PRICE', ylabel='Density'>"
      ]
     },
     "execution_count": 15,
     "metadata": {},
     "output_type": "execute_result"
    },
    {
     "data": {
      "image/png": "[encoded data removed]",
      "text/plain": [
       "<Figure size 432x288 with 1 Axes>"
      ]
     },
     "metadata": {
      "needs_background": "light"
     },
     "output_type": "display_data"
    }
   ],
   "source": [
    "import seaborn as sns\n",
    "sns.distplot(data.PRICE)"
   ]
  },
  {
   "cell_type": "markdown",
   "metadata": {
    "id": "ndIJ0vrgIgL-"
   },
   "source": [
    "The distribution seems normal, has not be the data normal we would have perform log transformation or took to square root of the data to make the data normal. Normal distribution is need for the machine learning for better predictiblity of the model"
   ]
  },
  {
   "cell_type": "code",
   "execution_count": 16,
   "metadata": {
    "colab": {
     "base_uri": "https://localhost:8080/",
     "height": 448
    },
    "id": "oXnjP8AxIgL_",
    "outputId": "ca727347-a020-495f-c6a0-0d81f5def2d2",
    "tags": []
   },
   "outputs": [
    {
     "name": "stderr",
     "output_type": "stream",
     "text": [
      "C:\\Users\\navne\\anaconda3\\lib\\site-packages\\seaborn\\_decorators.py:36: FutureWarning: Pass the following variable as a keyword arg: x. From version 0.12, the only valid positional argument will be `data`, and passing other arguments without an explicit keyword will result in an error or misinterpretation.\n",
      "  warnings.warn(\n"
     ]
    },
    {
     "data": {
      "text/plain": [
       "<AxesSubplot:xlabel='PRICE'>"
      ]
     },
     "execution_count": 16,
     "metadata": {},
     "output_type": "execute_result"
    },
    {
     "data": {
      "image/png": "[encoded data removed]",
      "text/plain": [
       "<Figure size 432x288 with 1 Axes>"
      ]
     },
     "metadata": {
      "needs_background": "light"
     },
     "output_type": "display_data"
    }
   ],
   "source": [
    "sns.boxplot(data.PRICE)"
   ]
  },
  {
   "cell_type": "markdown",
   "metadata": {
    "id": "KVoR0u1_IgL_"
   },
   "source": [
    "<a id = 'corr'></a>\n",
    "### Checking the correlation of the independent feature with the dependent feature\n",
    "\n",
    "Correlation is a statistical technique that can show whether and how strongly pairs of variables are related.An intelligent correlation analysis can lead to a greater understanding of your data"
   ]
  },
  {
   "cell_type": "code",
   "execution_count": 17,
   "metadata": {
    "colab": {
     "base_uri": "https://localhost:8080/"
    },
    "id": "ON5kqv82IgL_",
    "outputId": "fc28d1a3-568d-4ec4-bee5-4125228b3997",
    "tags": []
   },
   "outputs": [
    {
     "data": {
      "text/plain": [
       "CRIM      -0.393057\n",
       "ZN         0.366270\n",
       "INDUS     -0.488006\n",
       "CHAS       0.176896\n",
       "NOX       -0.427658\n",
       "RM         0.693071\n",
       "AGE       -0.374692\n",
       "DIS        0.252464\n",
       "RAD       -0.388123\n",
       "TAX       -0.475074\n",
       "PTRATIO   -0.525636\n",
       "B          0.336935\n",
       "LSTAT     -0.740927\n",
       "PRICE      1.000000\n",
       "Name: PRICE, dtype: float64"
      ]
     },
     "execution_count": 17,
     "metadata": {},
     "output_type": "execute_result"
    }
   ],
   "source": [
    "correlation = data.corr()\n",
    "correlation.loc['PRICE']"
   ]
  },
  {
   "cell_type": "code",
   "execution_count": 18,
   "metadata": {
    "colab": {
     "base_uri": "https://localhost:8080/",
     "height": 1000
    },
    "id": "vpDupiAbIgMA",
    "outputId": "5aa68b70-cfaa-4b16-c2e7-41e69b21517c",
    "tags": []
   },
   "outputs": [
    {
     "data": {
      "text/plain": [
       "<AxesSubplot:>"
      ]
     },
     "execution_count": 18,
     "metadata": {},
     "output_type": "execute_result"
    },
    {
     "data": {
      "image/png": "[encoded data removed]",
      "text/plain": [
       "<Figure size 1080x864 with 2 Axes>"
      ]
     },
     "metadata": {
      "needs_background": "light"
     },
     "output_type": "display_data"
    }
   ],
   "source": [
    "import matplotlib.pyplot as plt\n",
    "fig,axes = plt.subplots(figsize=(15,12))\n",
    "sns.heatmap(correlation,square = True,annot = True)"
   ]
  },
  {
   "cell_type": "markdown",
   "metadata": {
    "id": "dfEgfjX7IgMA"
   },
   "source": [
    "By looking at the correlation plot LSAT is negatively correlated with -0.75 and RM is positively correlated to the price and PTRATIO is correlated negatively with -0.51"
   ]
  },
  {
   "cell_type": "code",
   "execution_count": 19,
   "metadata": {
    "colab": {
     "base_uri": "https://localhost:8080/",
     "height": 452
    },
    "id": "M_LJ7ZQnIgMA",
    "outputId": "6b99dfd6-c2fb-43b0-9941-dde20ff9eba2",
    "tags": []
   },
   "outputs": [
    {
     "data": {
      "image/png": "[encoded data removed]",
      "text/plain": [
       "<Figure size 1440x360 with 3 Axes>"
      ]
     },
     "metadata": {
      "needs_background": "light"
     },
     "output_type": "display_data"
    }
   ],
   "source": [
    "plt.figure(figsize = (20,5))\n",
    "features = ['LSTAT','RM','PTRATIO']\n",
    "for i, col in enumerate(features):\n",
    "    plt.subplot(1, len(features) , i+1)\n",
    "    x = data[col]\n",
    "    y = data.PRICE\n",
    "    plt.scatter(x, y, marker='o')\n",
    "    plt.title(\"Variation in House prices\")\n",
    "    plt.xlabel(col)\n",
    "    plt.ylabel('\"House prices in $1000\"')"
   ]
  },
  {
   "cell_type": "markdown",
   "metadata": {
    "id": "_Tx7onnQIgMB"
   },
   "source": [
    "<a id = 'split'></a>\n",
    "### Splitting the dependent feature and independent feature "
   ]
  },
  {
   "cell_type": "code",
   "execution_count": 20,
   "metadata": {
    "id": "MviY_AvEIgMB",
    "tags": []
   },
   "outputs": [],
   "source": [
    "X = data.iloc[:,:-1]\n",
    "y= data.PRICE"
   ]
  },
  {
   "cell_type": "code",
   "execution_count": 21,
   "metadata": {
    "id": "_Qa8yCZuOCZC"
   },
   "outputs": [
    {
     "name": "stdout",
     "output_type": "stream",
     "text": [
      "Collecting mord\n",
      "  Downloading mord-0.6.tar.gz (4.7 kB)\n",
      "  Preparing metadata (setup.py): started\n",
      "  Preparing metadata (setup.py): finished with status 'done'\n",
      "Building wheels for collected packages: mord\n",
      "  Building wheel for mord (setup.py): started\n",
      "  Building wheel for mord (setup.py): finished with status 'done'\n",
      "  Created wheel for mord: filename=mord-0.6-py3-none-any.whl size=5985 sha256=70da32e2bcb5889f91581a6e6d79f984c42ff2f7f928e6aaa53aa27651b8606b\n",
      "  Stored in directory: c:\\users\\navne\\appdata\\local\\pip\\cache\\wheels\\1e\\fa\\70\\c1078bd598530116799d668f190e1c52f713cd9329dcb2df37\n",
      "Successfully built mord\n",
      "Installing collected packages: mord\n",
      "Successfully installed mord-0.6\n"
     ]
    },
    {
     "name": "stderr",
     "output_type": "stream",
     "text": [
      "  WARNING: Retrying (Retry(total=4, connect=None, read=None, redirect=None, status=None)) after connection broken by 'ConnectTimeoutError(<pip._vendor.urllib3.connection.HTTPSConnection object at 0x000002077D051970>, 'Connection to files.pythonhosted.org timed out. (connect timeout=15)')': /packages/67/9d/c791c841501d9ff4ecb76b57f208dec6cf9f925109c59c995ddec80f9b32/mord-0.6.tar.gz\n",
      "\n",
      "[notice] A new release of pip is available: 23.0.1 -> 23.1.2\n",
      "[notice] To update, run: python.exe -m pip install --upgrade pip\n"
     ]
    }
   ],
   "source": [
    "!pip install mord"
   ]
  },
  {
   "cell_type": "code",
   "execution_count": 22,
   "metadata": {},
   "outputs": [
    {
     "name": "stdout",
     "output_type": "stream",
     "text": [
      "Requirement already satisfied: tabulate in c:\\users\\navne\\anaconda3\\lib\\site-packages (0.8.9)\n"
     ]
    },
    {
     "name": "stderr",
     "output_type": "stream",
     "text": [
      "\n",
      "[notice] A new release of pip is available: 23.0.1 -> 23.1.2\n",
      "[notice] To update, run: python.exe -m pip install --upgrade pip\n"
     ]
    }
   ],
   "source": [
    "!pip install tabulate"
   ]
  },
  {
   "cell_type": "code",
   "execution_count": 23,
   "metadata": {
    "colab": {
     "base_uri": "https://localhost:8080/"
    },
    "id": "Nqy-tpk7N-Lg",
    "outputId": "4f1ddf17-6d41-4847-f9da-dc09be1572fc"
   },
   "outputs": [
    {
     "name": "stdout",
     "output_type": "stream",
     "text": [
      "+----------------------------------+----------------------+------------+\n",
      "| Model                            |   Mean Squared Error |   R2 Score |\n",
      "+==================================+======================+============+\n",
      "| Polynomial Regression            |              15.367  |   0.825619 |\n",
      "+----------------------------------+----------------------+------------+\n",
      "| Lasso Regression                 |              19.8478 |   0.774772 |\n",
      "+----------------------------------+----------------------+------------+\n",
      "| Partial Least Squares Regression |              20.5179 |   0.767167 |\n",
      "+----------------------------------+----------------------+------------+\n",
      "| Ordinal Regression               |              20.4365 |   0.768091 |\n",
      "+----------------------------------+----------------------+------------+\n",
      "| Linear Regression                |              20.1437 |   0.771415 |\n",
      "+----------------------------------+----------------------+------------+\n"
     ]
    }
   ],
   "source": [
    "import numpy as np\n",
    "# from sklearn.datasets import load_boston\n",
    "from sklearn.model_selection import train_test_split\n",
    "from sklearn.linear_model import LinearRegression, Lasso\n",
    "from sklearn.preprocessing import PolynomialFeatures, StandardScaler\n",
    "from sklearn.pipeline import make_pipeline\n",
    "from sklearn.metrics import mean_squared_error, r2_score\n",
    "from sklearn.cross_decomposition import PLSRegression\n",
    "from mord import OrdinalRidge\n",
    "from tabulate import tabulate\n",
    "\n",
    "\n",
    "\n",
    "X_train, X_test, y_train, y_test = train_test_split(X, y, test_size=0.2, random_state=42)\n",
    "\n",
    "# Polynomial Regression\n",
    "poly_reg = make_pipeline(PolynomialFeatures(degree=2), StandardScaler(), LinearRegression())\n",
    "poly_reg.fit(X_train, y_train)\n",
    "y_pred_poly = poly_reg.predict(X_test)\n",
    "poly_mse = mean_squared_error(y_test, y_pred_poly)\n",
    "poly_r2 = r2_score(y_test, y_pred_poly)\n",
    "\n",
    "# Lasso Regression\n",
    "lasso_reg = make_pipeline(StandardScaler(), Lasso(alpha=0.1))\n",
    "lasso_reg.fit(X_train, y_train)\n",
    "y_pred_lasso = lasso_reg.predict(X_test)\n",
    "lasso_mse = mean_squared_error(y_test, y_pred_lasso)\n",
    "lasso_r2 = r2_score(y_test, y_pred_lasso)\n",
    "\n",
    "# Partial Least Squares Regression\n",
    "pls_reg = make_pipeline(StandardScaler(), PLSRegression(n_components=5))\n",
    "pls_reg.fit(X_train, y_train)\n",
    "y_pred_pls = pls_reg.predict(X_test)\n",
    "pls_mse = mean_squared_error(y_test, y_pred_pls)\n",
    "pls_r2 = r2_score(y_test, y_pred_pls)\n",
    "\n",
    "# Ordinal Regression\n",
    "ordinal_reg = OrdinalRidge(alpha=0.1)\n",
    "ordinal_reg.fit(X_train, y_train)\n",
    "y_pred_ordinal = ordinal_reg.predict(X_test)\n",
    "ordinal_mse = mean_squared_error(y_test, y_pred_ordinal)\n",
    "ordinal_r2 = r2_score(y_test, y_pred_ordinal)\n",
    "\n",
    "# Linear Regression\n",
    "linear_reg = LinearRegression()\n",
    "linear_reg.fit(X_train, y_train)\n",
    "y_pred_linear = linear_reg.predict(X_test)\n",
    "linear_mse = mean_squared_error(y_test, y_pred_linear)\n",
    "linear_r2 = r2_score(y_test, y_pred_linear)\n",
    "\n",
    "\n",
    "table = [\n",
    "    [\"Polynomial Regression\", poly_mse, poly_r2],\n",
    "    [\"Lasso Regression\", lasso_mse, lasso_r2],\n",
    "    [\"Partial Least Squares Regression\", pls_mse, pls_r2],\n",
    "    [\"Ordinal Regression\", ordinal_mse, ordinal_r2],\n",
    "    [\"Linear Regression\", linear_mse, linear_r2]\n",
    "]\n",
    "\n",
    "\n",
    "headers = [\"Model\", \"Mean Squared Error\", \"R2 Score\"]\n",
    "print(tabulate(table, headers, tablefmt=\"grid\"))\n"
   ]
  },
  {
   "cell_type": "markdown",
   "metadata": {
    "id": "8UUt9tVPIgMC"
   },
   "source": [
    "<a id  = 'NN'></a>\n",
    "## Neural Networks"
   ]
  },
  {
   "cell_type": "code",
   "execution_count": 24,
   "metadata": {
    "id": "pNimFbIoIgMC",
    "tags": []
   },
   "outputs": [],
   "source": [
    "from sklearn.preprocessing import StandardScaler\n",
    "sc = StandardScaler()\n",
    "X_train = sc.fit_transform(X_train)\n",
    "X_test = sc.transform(X_test)"
   ]
  },
  {
   "cell_type": "code",
   "execution_count": 25,
   "metadata": {
    "id": "Uw5c8XJzIgMC",
    "tags": []
   },
   "outputs": [],
   "source": [
    "import keras\n",
    "from keras.layers import Dense, Activation,Dropout\n",
    "from keras.models import Sequential\n",
    "\n",
    "model = Sequential()\n",
    "\n",
    "model.add(Dense(128,activation  = 'relu',input_dim =13))\n",
    "model.add(Dense(64,activation  = 'relu'))\n",
    "model.add(Dense(32,activation  = 'relu'))\n",
    "model.add(Dense(16,activation  = 'relu'))\n",
    "# model.add(Dense(8,activation  = 'relu'))\n",
    "model.add(Dense(1))\n",
    "model.compile(optimizer = 'adam',loss = 'mean_squared_error')"
   ]
  },
  {
   "cell_type": "code",
   "execution_count": 26,
   "metadata": {},
   "outputs": [
    {
     "name": "stdout",
     "output_type": "stream",
     "text": [
      "Model: \"sequential\"\n",
      "_________________________________________________________________\n",
      " Layer (type)                Output Shape              Param #   \n",
      "=================================================================\n",
      " dense (Dense)               (None, 128)               1792      \n",
      "                                                                 \n",
      " dense_1 (Dense)             (None, 64)                8256      \n",
      "                                                                 \n",
      " dense_2 (Dense)             (None, 32)                2080      \n",
      "                                                                 \n",
      " dense_3 (Dense)             (None, 16)                528       \n",
      "                                                                 \n",
      " dense_4 (Dense)             (None, 1)                 17        \n",
      "                                                                 \n",
      "=================================================================\n",
      "Total params: 12,673\n",
      "Trainable params: 12,673\n",
      "Non-trainable params: 0\n",
      "_________________________________________________________________\n"
     ]
    }
   ],
   "source": [
    "model.summary()\n"
   ]
  },
  {
   "cell_type": "code",
   "execution_count": 27,
   "metadata": {},
   "outputs": [
    {
     "name": "stdout",
     "output_type": "stream",
     "text": [
      "Collecting graphviz\n",
      "  Downloading graphviz-0.20.1-py3-none-any.whl (47 kB)\n",
      "     ---------------------------------------- 47.0/47.0 kB 2.5 MB/s eta 0:00:00\n",
      "Installing collected packages: graphviz\n",
      "Successfully installed graphviz-0.20.1\n"
     ]
    },
    {
     "name": "stderr",
     "output_type": "stream",
     "text": [
      "\n",
      "[notice] A new release of pip is available: 23.0.1 -> 23.1.2\n",
      "[notice] To update, run: python.exe -m pip install --upgrade pip\n"
     ]
    }
   ],
   "source": [
    "!pip install graphviz"
   ]
  },
  {
   "cell_type": "code",
   "execution_count": 28,
   "metadata": {},
   "outputs": [
    {
     "name": "stdout",
     "output_type": "stream",
     "text": [
      "You must install pydot (`pip install pydot`) and install graphviz (see instructions at https://graphviz.gitlab.io/download/) for plot_model to work.\n"
     ]
    }
   ],
   "source": [
    "from keras.utils.vis_utils import plot_model\n",
    "plot_model(model, to_file='model_plot.png', show_shapes=True, show_layer_names=True)"
   ]
  },
  {
   "cell_type": "code",
   "execution_count": 29,
   "metadata": {
    "colab": {
     "base_uri": "https://localhost:8080/"
    },
    "id": "4-paByj-IgMD",
    "outputId": "a60d6351-60b1-459b-93db-dfba5d3ff2d5",
    "tags": []
   },
   "outputs": [
    {
     "name": "stdout",
     "output_type": "stream",
     "text": [
      "Epoch 1/100\n",
      "13/13 [==============================] - 1s 2ms/step - loss: 581.1647\n",
      "Epoch 2/100\n",
      "13/13 [==============================] - 0s 2ms/step - loss: 516.3430\n",
      "Epoch 3/100\n",
      "13/13 [==============================] - 0s 2ms/step - loss: 364.0336\n",
      "Epoch 4/100\n",
      "13/13 [==============================] - 0s 2ms/step - loss: 146.8736\n",
      "Epoch 5/100\n",
      "13/13 [==============================] - 0s 2ms/step - loss: 87.2210\n",
      "Epoch 6/100\n",
      "13/13 [==============================] - 0s 2ms/step - loss: 51.7952\n",
      "Epoch 7/100\n",
      "13/13 [==============================] - 0s 2ms/step - loss: 33.7812\n",
      "Epoch 8/100\n",
      "13/13 [==============================] - 0s 2ms/step - loss: 28.0128\n",
      "Epoch 9/100\n",
      "13/13 [==============================] - 0s 2ms/step - loss: 24.6328\n",
      "Epoch 10/100\n",
      "13/13 [==============================] - 0s 1ms/step - loss: 21.5407\n",
      "Epoch 11/100\n",
      "13/13 [==============================] - 0s 2ms/step - loss: 19.6116\n",
      "Epoch 12/100\n",
      "13/13 [==============================] - 0s 2ms/step - loss: 18.0997\n",
      "Epoch 13/100\n",
      "13/13 [==============================] - 0s 2ms/step - loss: 17.4288\n",
      "Epoch 14/100\n",
      "13/13 [==============================] - 0s 2ms/step - loss: 17.2447\n",
      "Epoch 15/100\n",
      "13/13 [==============================] - 0s 2ms/step - loss: 16.2585\n",
      "Epoch 16/100\n",
      "13/13 [==============================] - 0s 2ms/step - loss: 15.0888\n",
      "Epoch 17/100\n",
      "13/13 [==============================] - 0s 2ms/step - loss: 14.3531\n",
      "Epoch 18/100\n",
      "13/13 [==============================] - 0s 2ms/step - loss: 14.1876\n",
      "Epoch 19/100\n",
      "13/13 [==============================] - 0s 2ms/step - loss: 13.7382\n",
      "Epoch 20/100\n",
      "13/13 [==============================] - 0s 2ms/step - loss: 13.0404\n",
      "Epoch 21/100\n",
      "13/13 [==============================] - 0s 2ms/step - loss: 13.2882\n",
      "Epoch 22/100\n",
      "13/13 [==============================] - 0s 2ms/step - loss: 12.6918\n",
      "Epoch 23/100\n",
      "13/13 [==============================] - 0s 2ms/step - loss: 12.2497\n",
      "Epoch 24/100\n",
      "13/13 [==============================] - 0s 2ms/step - loss: 12.0042\n",
      "Epoch 25/100\n",
      "13/13 [==============================] - 0s 2ms/step - loss: 11.7446\n",
      "Epoch 26/100\n",
      "13/13 [==============================] - 0s 2ms/step - loss: 11.3392\n",
      "Epoch 27/100\n",
      "13/13 [==============================] - 0s 2ms/step - loss: 11.2405\n",
      "Epoch 28/100\n",
      "13/13 [==============================] - 0s 2ms/step - loss: 11.2552\n",
      "Epoch 29/100\n",
      "13/13 [==============================] - 0s 2ms/step - loss: 11.2175\n",
      "Epoch 30/100\n",
      "13/13 [==============================] - 0s 2ms/step - loss: 10.8211\n",
      "Epoch 31/100\n",
      "13/13 [==============================] - 0s 2ms/step - loss: 10.2924\n",
      "Epoch 32/100\n",
      "13/13 [==============================] - 0s 2ms/step - loss: 10.4162\n",
      "Epoch 33/100\n",
      "13/13 [==============================] - 0s 2ms/step - loss: 10.0125\n",
      "Epoch 34/100\n",
      "13/13 [==============================] - 0s 2ms/step - loss: 10.1418\n",
      "Epoch 35/100\n",
      "13/13 [==============================] - 0s 2ms/step - loss: 9.7660\n",
      "Epoch 36/100\n",
      "13/13 [==============================] - 0s 1ms/step - loss: 9.5556\n",
      "Epoch 37/100\n",
      "13/13 [==============================] - 0s 2ms/step - loss: 9.7917\n",
      "Epoch 38/100\n",
      "13/13 [==============================] - 0s 2ms/step - loss: 9.3827\n",
      "Epoch 39/100\n",
      "13/13 [==============================] - 0s 2ms/step - loss: 9.1995\n",
      "Epoch 40/100\n",
      "13/13 [==============================] - 0s 2ms/step - loss: 9.0670\n",
      "Epoch 41/100\n",
      "13/13 [==============================] - 0s 2ms/step - loss: 8.7472\n",
      "Epoch 42/100\n",
      "13/13 [==============================] - 0s 2ms/step - loss: 9.7562\n",
      "Epoch 43/100\n",
      "13/13 [==============================] - 0s 2ms/step - loss: 9.6208\n",
      "Epoch 44/100\n",
      "13/13 [==============================] - 0s 2ms/step - loss: 8.6904\n",
      "Epoch 45/100\n",
      "13/13 [==============================] - 0s 2ms/step - loss: 8.8859\n",
      "Epoch 46/100\n",
      "13/13 [==============================] - 0s 2ms/step - loss: 8.3651\n",
      "Epoch 47/100\n",
      "13/13 [==============================] - 0s 2ms/step - loss: 8.0947\n",
      "Epoch 48/100\n",
      "13/13 [==============================] - 0s 2ms/step - loss: 7.9960\n",
      "Epoch 49/100\n",
      "13/13 [==============================] - 0s 2ms/step - loss: 8.2493\n",
      "Epoch 50/100\n",
      "13/13 [==============================] - 0s 2ms/step - loss: 7.5305\n",
      "Epoch 51/100\n",
      "13/13 [==============================] - 0s 2ms/step - loss: 7.8628\n",
      "Epoch 52/100\n",
      "13/13 [==============================] - 0s 2ms/step - loss: 7.6581\n",
      "Epoch 53/100\n",
      "13/13 [==============================] - 0s 2ms/step - loss: 7.4405\n",
      "Epoch 54/100\n",
      "13/13 [==============================] - 0s 2ms/step - loss: 7.9381\n",
      "Epoch 55/100\n",
      "13/13 [==============================] - 0s 2ms/step - loss: 7.1620\n",
      "Epoch 56/100\n",
      "13/13 [==============================] - 0s 2ms/step - loss: 7.2207\n",
      "Epoch 57/100\n",
      "13/13 [==============================] - 0s 2ms/step - loss: 7.3722\n",
      "Epoch 58/100\n",
      "13/13 [==============================] - 0s 2ms/step - loss: 7.2459\n",
      "Epoch 59/100\n",
      "13/13 [==============================] - 0s 2ms/step - loss: 7.0312\n",
      "Epoch 60/100\n",
      "13/13 [==============================] - 0s 2ms/step - loss: 7.1011\n",
      "Epoch 61/100\n",
      "13/13 [==============================] - 0s 2ms/step - loss: 6.9435\n",
      "Epoch 62/100\n",
      "13/13 [==============================] - 0s 2ms/step - loss: 7.0137\n",
      "Epoch 63/100\n",
      "13/13 [==============================] - 0s 2ms/step - loss: 6.6863\n",
      "Epoch 64/100\n",
      "13/13 [==============================] - 0s 2ms/step - loss: 6.9558\n",
      "Epoch 65/100\n",
      "13/13 [==============================] - 0s 2ms/step - loss: 6.9413\n",
      "Epoch 66/100\n",
      "13/13 [==============================] - 0s 2ms/step - loss: 6.1406\n",
      "Epoch 67/100\n",
      "13/13 [==============================] - 0s 2ms/step - loss: 6.2018\n",
      "Epoch 68/100\n",
      "13/13 [==============================] - 0s 2ms/step - loss: 6.1748\n",
      "Epoch 69/100\n",
      "13/13 [==============================] - 0s 2ms/step - loss: 5.9691\n",
      "Epoch 70/100\n",
      "13/13 [==============================] - 0s 2ms/step - loss: 5.9882\n",
      "Epoch 71/100\n",
      "13/13 [==============================] - 0s 2ms/step - loss: 5.8437\n",
      "Epoch 72/100\n",
      "13/13 [==============================] - 0s 2ms/step - loss: 5.8286\n",
      "Epoch 73/100\n",
      "13/13 [==============================] - 0s 1ms/step - loss: 5.8221\n",
      "Epoch 74/100\n",
      "13/13 [==============================] - 0s 2ms/step - loss: 5.6036\n",
      "Epoch 75/100\n",
      "13/13 [==============================] - 0s 2ms/step - loss: 5.9176\n",
      "Epoch 76/100\n",
      "13/13 [==============================] - 0s 2ms/step - loss: 5.5367\n",
      "Epoch 77/100\n",
      "13/13 [==============================] - 0s 2ms/step - loss: 5.6621\n",
      "Epoch 78/100\n",
      "13/13 [==============================] - 0s 2ms/step - loss: 5.3903\n",
      "Epoch 79/100\n",
      "13/13 [==============================] - 0s 2ms/step - loss: 5.2214\n",
      "Epoch 80/100\n",
      "13/13 [==============================] - 0s 2ms/step - loss: 5.1409\n",
      "Epoch 81/100\n",
      "13/13 [==============================] - 0s 2ms/step - loss: 5.3920\n",
      "Epoch 82/100\n",
      "13/13 [==============================] - 0s 2ms/step - loss: 5.1092\n",
      "Epoch 83/100\n",
      "13/13 [==============================] - 0s 2ms/step - loss: 4.9764\n",
      "Epoch 84/100\n",
      "13/13 [==============================] - 0s 2ms/step - loss: 5.0194\n",
      "Epoch 85/100\n",
      "13/13 [==============================] - 0s 2ms/step - loss: 5.4252\n",
      "Epoch 86/100\n",
      "13/13 [==============================] - 0s 2ms/step - loss: 5.2343\n",
      "Epoch 87/100\n",
      "13/13 [==============================] - 0s 2ms/step - loss: 5.0789\n",
      "Epoch 88/100\n",
      "13/13 [==============================] - 0s 2ms/step - loss: 5.2047\n",
      "Epoch 89/100\n",
      "13/13 [==============================] - 0s 1ms/step - loss: 4.7976\n",
      "Epoch 90/100\n",
      "13/13 [==============================] - 0s 2ms/step - loss: 4.5687\n",
      "Epoch 91/100\n",
      "13/13 [==============================] - 0s 2ms/step - loss: 4.5019\n",
      "Epoch 92/100\n",
      "13/13 [==============================] - 0s 2ms/step - loss: 4.4028\n",
      "Epoch 93/100\n",
      "13/13 [==============================] - 0s 2ms/step - loss: 4.4387\n",
      "Epoch 94/100\n",
      "13/13 [==============================] - 0s 2ms/step - loss: 5.0569\n",
      "Epoch 95/100\n",
      "13/13 [==============================] - 0s 1ms/step - loss: 6.1796\n",
      "Epoch 96/100\n",
      "13/13 [==============================] - 0s 1ms/step - loss: 5.4481\n",
      "Epoch 97/100\n",
      "13/13 [==============================] - 0s 1ms/step - loss: 5.3040\n",
      "Epoch 98/100\n",
      "13/13 [==============================] - 0s 2ms/step - loss: 4.3904\n",
      "Epoch 99/100\n",
      "13/13 [==============================] - 0s 2ms/step - loss: 4.6392\n",
      "Epoch 100/100\n",
      "13/13 [==============================] - 0s 2ms/step - loss: 4.6709\n"
     ]
    },
    {
     "data": {
      "text/plain": [
       "<keras.callbacks.History at 0x28cf0b27ac0>"
      ]
     },
     "execution_count": 29,
     "metadata": {},
     "output_type": "execute_result"
    }
   ],
   "source": [
    "model.fit(X_train, y_train, epochs = 100)"
   ]
  },
  {
   "cell_type": "markdown",
   "metadata": {
    "id": "xulfMqS7IgMD"
   },
   "source": [
    "<a id = 'eval'></a>\n",
    "### Evaluation of the model"
   ]
  },
  {
   "cell_type": "code",
   "execution_count": 30,
   "metadata": {
    "colab": {
     "base_uri": "https://localhost:8080/"
    },
    "id": "DXhZJhS7IgME",
    "outputId": "664d3150-3eba-470f-d1df-8d5441eee7e9",
    "tags": []
   },
   "outputs": [
    {
     "name": "stdout",
     "output_type": "stream",
     "text": [
      "4/4 [==============================] - 0s 2ms/step\n"
     ]
    }
   ],
   "source": [
    "y_pred_nn = model.predict(X_test)\n",
    "nn_mse = mean_squared_error(y_test, y_pred_nn)"
   ]
  },
  {
   "cell_type": "code",
   "execution_count": 31,
   "metadata": {
    "colab": {
     "base_uri": "https://localhost:8080/"
    },
    "id": "8Br3Mf5yIgME",
    "outputId": "eab967a4-0a6d-4640-fed7-4da51905bf16",
    "tags": []
   },
   "outputs": [
    {
     "name": "stdout",
     "output_type": "stream",
     "text": [
      "0.910074742473124\n"
     ]
    }
   ],
   "source": [
    "from sklearn.metrics import r2_score\n",
    "nn_r2 = r2_score(y_test, y_pred_nn)\n",
    "print(nn_r2)"
   ]
  },
  {
   "cell_type": "code",
   "execution_count": 32,
   "metadata": {
    "colab": {
     "base_uri": "https://localhost:8080/"
    },
    "id": "5-xks9lZSPAi",
    "outputId": "b4f28a46-fbc9-4eaf-bc8b-4815ed444aad"
   },
   "outputs": [
    {
     "name": "stdout",
     "output_type": "stream",
     "text": [
      "Model                               Mean Squared Error    R2 Score\n",
      "--------------------------------  --------------------  ----------\n",
      "Polynomial Regression                         15.367      0.825619\n",
      "Lasso Regression                              19.8478     0.774772\n",
      "Partial Least Squares Regression              20.5179     0.767167\n",
      "Ordinal Regression                            20.4365     0.768091\n",
      "Linear Regression                             20.1437     0.771415\n",
      "Neural Network Regression Model                7.92449    0.910075\n"
     ]
    }
   ],
   "source": [
    "table = [\n",
    "    [\"Polynomial Regression\", poly_mse, poly_r2],\n",
    "    [\"Lasso Regression\", lasso_mse, lasso_r2],\n",
    "    [\"Partial Least Squares Regression\", pls_mse, pls_r2],\n",
    "    [\"Ordinal Regression\", ordinal_mse, ordinal_r2],\n",
    "    [\"Linear Regression\", linear_mse, linear_r2],\n",
    "    [\"Neural Network Regression Model\",nn_mse,nn_r2 ]\n",
    "]\n",
    "\n",
    "\n",
    "headers = [\"Model\", \"Mean Squared Error\", \"R2 Score\"]\n",
    "print(tabulate(table, headers, tablefmt=\"markdown\"))"
   ]
  },
  {
   "cell_type": "code",
   "execution_count": 33,
   "metadata": {},
   "outputs": [
    {
     "name": "stdout",
     "output_type": "stream",
     "text": [
      "13/13 [==============================] - 0s 2ms/step - loss: 4.3123\n",
      "13/13 [==============================] - 0s 2ms/step - loss: 4.5525\n",
      "13/13 [==============================] - 0s 2ms/step - loss: 4.3330\n",
      "13/13 [==============================] - 0s 2ms/step - loss: 4.4782\n",
      "13/13 [==============================] - 0s 1ms/step - loss: 4.1765\n",
      "13/13 [==============================] - 0s 2ms/step - loss: 4.1885\n",
      "13/13 [==============================] - 0s 2ms/step - loss: 4.3042\n",
      "13/13 [==============================] - 0s 1ms/step - loss: 3.9901\n",
      "13/13 [==============================] - 0s 1ms/step - loss: 4.0272\n",
      "13/13 [==============================] - 0s 2ms/step - loss: 4.1364\n",
      "13/13 [==============================] - 0s 2ms/step - loss: 4.0808\n",
      "13/13 [==============================] - 0s 2ms/step - loss: 4.1750\n",
      "13/13 [==============================] - 0s 2ms/step - loss: 3.6613\n",
      "13/13 [==============================] - 0s 2ms/step - loss: 3.6312\n",
      "13/13 [==============================] - 0s 2ms/step - loss: 3.8669\n",
      "13/13 [==============================] - 0s 2ms/step - loss: 3.9450\n",
      "13/13 [==============================] - 0s 2ms/step - loss: 3.8066\n",
      "13/13 [==============================] - 0s 2ms/step - loss: 3.5920\n",
      "13/13 [==============================] - 0s 2ms/step - loss: 4.1275\n",
      "13/13 [==============================] - 0s 2ms/step - loss: 3.5323\n",
      "13/13 [==============================] - 0s 2ms/step - loss: 3.5224\n",
      "13/13 [==============================] - 0s 2ms/step - loss: 3.5761\n",
      "13/13 [==============================] - 0s 2ms/step - loss: 3.4292\n",
      "13/13 [==============================] - 0s 1ms/step - loss: 3.3096\n",
      "13/13 [==============================] - 0s 2ms/step - loss: 3.1860\n",
      "13/13 [==============================] - 0s 2ms/step - loss: 3.7218\n",
      "13/13 [==============================] - 0s 2ms/step - loss: 3.4272\n",
      "13/13 [==============================] - 0s 2ms/step - loss: 3.4311\n",
      "13/13 [==============================] - 0s 2ms/step - loss: 3.2447\n",
      "13/13 [==============================] - 0s 2ms/step - loss: 3.8858\n",
      "13/13 [==============================] - 0s 2ms/step - loss: 3.0566\n",
      "13/13 [==============================] - 0s 14ms/step - loss: 3.1799\n",
      "13/13 [==============================] - 0s 2ms/step - loss: 3.0697\n",
      "13/13 [==============================] - 0s 2ms/step - loss: 3.1171\n",
      "13/13 [==============================] - 0s 2ms/step - loss: 3.1425\n",
      "13/13 [==============================] - 0s 1ms/step - loss: 3.0671\n",
      "13/13 [==============================] - 0s 2ms/step - loss: 3.0441\n",
      "13/13 [==============================] - 0s 2ms/step - loss: 3.1314\n",
      "13/13 [==============================] - 0s 2ms/step - loss: 2.8037\n",
      "13/13 [==============================] - 0s 2ms/step - loss: 3.0780\n",
      "13/13 [==============================] - 0s 2ms/step - loss: 2.8614\n",
      "13/13 [==============================] - 0s 1ms/step - loss: 2.9302\n",
      "13/13 [==============================] - 0s 2ms/step - loss: 2.8692\n",
      "13/13 [==============================] - 0s 2ms/step - loss: 3.1649\n",
      "13/13 [==============================] - 0s 2ms/step - loss: 2.9423\n",
      "13/13 [==============================] - 0s 2ms/step - loss: 2.9638\n",
      "13/13 [==============================] - 0s 2ms/step - loss: 2.9195\n",
      "13/13 [==============================] - 0s 2ms/step - loss: 2.7454\n",
      "13/13 [==============================] - 0s 2ms/step - loss: 2.6940\n",
      "13/13 [==============================] - 0s 2ms/step - loss: 2.8812\n",
      "13/13 [==============================] - 0s 2ms/step - loss: 2.6581\n",
      "13/13 [==============================] - 0s 1ms/step - loss: 2.5446\n",
      "13/13 [==============================] - 0s 2ms/step - loss: 2.5400\n",
      "13/13 [==============================] - 0s 2ms/step - loss: 2.4655\n",
      "13/13 [==============================] - 0s 2ms/step - loss: 2.5050\n",
      "13/13 [==============================] - 0s 2ms/step - loss: 2.6561\n",
      "13/13 [==============================] - 0s 2ms/step - loss: 2.7087\n",
      "13/13 [==============================] - 0s 2ms/step - loss: 2.5066\n",
      "13/13 [==============================] - 0s 2ms/step - loss: 2.6556\n",
      "13/13 [==============================] - 0s 2ms/step - loss: 2.6198\n",
      "13/13 [==============================] - 0s 2ms/step - loss: 2.5879\n",
      "13/13 [==============================] - 0s 2ms/step - loss: 2.5102\n",
      "13/13 [==============================] - 0s 2ms/step - loss: 2.6520\n",
      "13/13 [==============================] - 0s 2ms/step - loss: 2.5878\n",
      "13/13 [==============================] - 0s 2ms/step - loss: 2.4095\n",
      "13/13 [==============================] - 0s 2ms/step - loss: 2.3644\n",
      "13/13 [==============================] - 0s 2ms/step - loss: 2.8771\n",
      "13/13 [==============================] - 0s 2ms/step - loss: 2.2650\n",
      "13/13 [==============================] - 0s 2ms/step - loss: 2.2039\n",
      "13/13 [==============================] - 0s 1ms/step - loss: 2.3827\n",
      "13/13 [==============================] - 0s 2ms/step - loss: 2.1757\n",
      "13/13 [==============================] - 0s 2ms/step - loss: 2.4651\n",
      "13/13 [==============================] - 0s 2ms/step - loss: 2.3317\n",
      "13/13 [==============================] - 0s 2ms/step - loss: 2.7013\n",
      "13/13 [==============================] - 0s 2ms/step - loss: 2.4285\n",
      "13/13 [==============================] - 0s 2ms/step - loss: 2.1744\n",
      "13/13 [==============================] - 0s 2ms/step - loss: 2.1169\n",
      "13/13 [==============================] - 0s 2ms/step - loss: 1.9878\n",
      "13/13 [==============================] - 0s 2ms/step - loss: 2.2355\n",
      "13/13 [==============================] - 0s 2ms/step - loss: 2.0346\n",
      "13/13 [==============================] - 0s 2ms/step - loss: 2.1271\n",
      "13/13 [==============================] - 0s 2ms/step - loss: 2.1382\n",
      "13/13 [==============================] - 0s 2ms/step - loss: 2.0473\n",
      "13/13 [==============================] - 0s 1ms/step - loss: 2.1116\n",
      "13/13 [==============================] - 0s 2ms/step - loss: 2.1594\n",
      "13/13 [==============================] - 0s 2ms/step - loss: 2.0021\n",
      "13/13 [==============================] - 0s 2ms/step - loss: 1.9339\n",
      "13/13 [==============================] - 0s 1ms/step - loss: 2.0223\n",
      "13/13 [==============================] - 0s 2ms/step - loss: 1.8577\n",
      "13/13 [==============================] - 0s 2ms/step - loss: 1.8914\n",
      "13/13 [==============================] - 0s 2ms/step - loss: 1.8981\n",
      "13/13 [==============================] - 0s 2ms/step - loss: 1.8283\n",
      "13/13 [==============================] - 0s 2ms/step - loss: 1.7479\n",
      "13/13 [==============================] - 0s 2ms/step - loss: 2.0340\n",
      "13/13 [==============================] - 0s 2ms/step - loss: 1.8085\n",
      "13/13 [==============================] - 0s 2ms/step - loss: 1.7308\n",
      "13/13 [==============================] - 0s 2ms/step - loss: 3.4878\n",
      "13/13 [==============================] - 0s 1ms/step - loss: 3.4184\n",
      "13/13 [==============================] - 0s 2ms/step - loss: 2.0319\n",
      "13/13 [==============================] - 0s 1ms/step - loss: 2.0599\n"
     ]
    },
    {
     "data": {
      "text/plain": [
       "[<matplotlib.lines.Line2D at 0x28cf1d2e5e0>]"
      ]
     },
     "execution_count": 33,
     "metadata": {},
     "output_type": "execute_result"
    },
    {
     "data": {
      "image/png": "[encoded data removed]",
      "text/plain": [
       "<Figure size 432x288 with 1 Axes>"
      ]
     },
     "metadata": {
      "needs_background": "light"
     },
     "output_type": "display_data"
    }
   ],
   "source": [
    "lossv = []\n",
    "for epoch in range (100):\n",
    "    history = model.fit(X_train, y_train, epochs = 1)\n",
    "    lossv += history.history['loss']\n",
    "    \n",
    "plt.plot(lossv)"
   ]
  },
  {
   "cell_type": "code",
   "execution_count": null,
   "metadata": {},
   "outputs": [],
   "source": []
  }
 ],
 "metadata": {
  "colab": {
   "provenance": []
  },
  "kernelspec": {
   "display_name": "Python 3 (ipykernel)",
   "language": "python",
   "name": "python3"
  },
  "language_info": {
   "codemirror_mode": {
    "name": "ipython",
    "version": 3
   },
   "file_extension": ".py",
   "mimetype": "text/x-python",
   "name": "python",
   "nbconvert_exporter": "python",
   "pygments_lexer": "ipython3",
   "version": "3.9.7"
  }
 },
 "nbformat": 4,
 "nbformat_minor": 4
}
